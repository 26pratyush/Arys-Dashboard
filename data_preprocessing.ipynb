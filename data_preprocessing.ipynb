{
 "cells": [
  {
   "cell_type": "code",
   "execution_count": 2,
   "id": "8a5901a8",
   "metadata": {},
   "outputs": [
    {
     "name": "stdout",
     "output_type": "stream",
     "text": [
      "Dataset loaded. Shape: (554, 8)\n"
     ]
    }
   ],
   "source": [
    "import pandas as pd\n",
    "import numpy as np\n",
    "\n",
    "# Load dataset\n",
    "df = pd.read_csv(\"data/sales_data.csv\")\n",
    "print(\"Dataset loaded. Shape:\", df.shape)"
   ]
  },
  {
   "cell_type": "code",
   "execution_count": 3,
   "id": "fdf9bdac",
   "metadata": {},
   "outputs": [
    {
     "data": {
      "text/html": [
       "<div>\n",
       "<style scoped>\n",
       "    .dataframe tbody tr th:only-of-type {\n",
       "        vertical-align: middle;\n",
       "    }\n",
       "\n",
       "    .dataframe tbody tr th {\n",
       "        vertical-align: top;\n",
       "    }\n",
       "\n",
       "    .dataframe thead th {\n",
       "        text-align: right;\n",
       "    }\n",
       "</style>\n",
       "<table border=\"1\" class=\"dataframe\">\n",
       "  <thead>\n",
       "    <tr style=\"text-align: right;\">\n",
       "      <th></th>\n",
       "      <th>ORDERNUMBER</th>\n",
       "      <th>SALES</th>\n",
       "      <th>ORDERDATE</th>\n",
       "      <th>PRODUCTLINE</th>\n",
       "      <th>COUNTRY</th>\n",
       "      <th>QUANTITYORDERED</th>\n",
       "      <th>CUSTOMERNAME</th>\n",
       "      <th>STATUS</th>\n",
       "    </tr>\n",
       "  </thead>\n",
       "  <tbody>\n",
       "    <tr>\n",
       "      <th>0</th>\n",
       "      <td>10001</td>\n",
       "      <td>61288.06</td>\n",
       "      <td>2020-08-17</td>\n",
       "      <td>Commercial Trucks</td>\n",
       "      <td>USA</td>\n",
       "      <td>22</td>\n",
       "      <td>EuroFleet Systems</td>\n",
       "      <td>Resolved</td>\n",
       "    </tr>\n",
       "    <tr>\n",
       "      <th>1</th>\n",
       "      <td>10002</td>\n",
       "      <td>63144.11</td>\n",
       "      <td>2020-04-08</td>\n",
       "      <td>Semi-Trailers</td>\n",
       "      <td>Germany</td>\n",
       "      <td>5</td>\n",
       "      <td>MetroFleet Auto Group</td>\n",
       "      <td>Delivered</td>\n",
       "    </tr>\n",
       "    <tr>\n",
       "      <th>2</th>\n",
       "      <td>10003</td>\n",
       "      <td>69323.75</td>\n",
       "      <td>2020-09-07</td>\n",
       "      <td>Commercial Trucks</td>\n",
       "      <td>France</td>\n",
       "      <td>58</td>\n",
       "      <td>FleetX Logistics Ltd.</td>\n",
       "      <td>Delivered</td>\n",
       "    </tr>\n",
       "    <tr>\n",
       "      <th>3</th>\n",
       "      <td>10004</td>\n",
       "      <td>62427.42</td>\n",
       "      <td>2020-02-02</td>\n",
       "      <td>Commercial Trucks</td>\n",
       "      <td>USA</td>\n",
       "      <td>54</td>\n",
       "      <td>EuroFleet Systems</td>\n",
       "      <td>Cancelled</td>\n",
       "    </tr>\n",
       "    <tr>\n",
       "      <th>4</th>\n",
       "      <td>10005</td>\n",
       "      <td>58800.66</td>\n",
       "      <td>2020-08-13</td>\n",
       "      <td>Chassis Components</td>\n",
       "      <td>France</td>\n",
       "      <td>76</td>\n",
       "      <td>AutoNation Dealers</td>\n",
       "      <td>Resolved</td>\n",
       "    </tr>\n",
       "  </tbody>\n",
       "</table>\n",
       "</div>"
      ],
      "text/plain": [
       "   ORDERNUMBER     SALES   ORDERDATE         PRODUCTLINE  COUNTRY  \\\n",
       "0        10001  61288.06  2020-08-17   Commercial Trucks      USA   \n",
       "1        10002  63144.11  2020-04-08       Semi-Trailers  Germany   \n",
       "2        10003  69323.75  2020-09-07   Commercial Trucks   France   \n",
       "3        10004  62427.42  2020-02-02   Commercial Trucks      USA   \n",
       "4        10005  58800.66  2020-08-13  Chassis Components   France   \n",
       "\n",
       "   QUANTITYORDERED           CUSTOMERNAME     STATUS  \n",
       "0               22      EuroFleet Systems   Resolved  \n",
       "1                5  MetroFleet Auto Group  Delivered  \n",
       "2               58  FleetX Logistics Ltd.  Delivered  \n",
       "3               54      EuroFleet Systems  Cancelled  \n",
       "4               76     AutoNation Dealers   Resolved  "
      ]
     },
     "execution_count": 3,
     "metadata": {},
     "output_type": "execute_result"
    }
   ],
   "source": [
    "# View initial structure\n",
    "df.head()"
   ]
  },
  {
   "cell_type": "code",
   "execution_count": 4,
   "id": "2d7770af",
   "metadata": {},
   "outputs": [
    {
     "name": "stdout",
     "output_type": "stream",
     "text": [
      "Columns: ['ORDERNUMBER', 'SALES', 'ORDERDATE', 'PRODUCTLINE', 'COUNTRY', 'QUANTITYORDERED', 'CUSTOMERNAME', 'STATUS']\n"
     ]
    }
   ],
   "source": [
    "# Confirm available columns\n",
    "print(\"Columns:\", df.columns.tolist())"
   ]
  },
  {
   "cell_type": "code",
   "execution_count": 5,
   "id": "f2f367d7",
   "metadata": {},
   "outputs": [
    {
     "name": "stdout",
     "output_type": "stream",
     "text": [
      "\n",
      "Missing Values:\n",
      " ORDERNUMBER         0\n",
      "SALES              12\n",
      "ORDERDATE           0\n",
      "PRODUCTLINE         0\n",
      "COUNTRY             0\n",
      "QUANTITYORDERED     0\n",
      "CUSTOMERNAME       11\n",
      "STATUS             11\n",
      "dtype: int64\n",
      "Cleaned nulls and duplicates. New shape: (519, 8)\n"
     ]
    }
   ],
   "source": [
    "# Check for missing values\n",
    "print(\"\\nMissing Values:\\n\", df.isnull().sum())\n",
    "\n",
    "# Drop missing values (if any)\n",
    "df.dropna(inplace=True)\n",
    "\n",
    "# Drop duplicate rows\n",
    "df.drop_duplicates(inplace=True)\n",
    "\n",
    "print(\"Cleaned nulls and duplicates. New shape:\", df.shape)"
   ]
  },
  {
   "cell_type": "code",
   "execution_count": 6,
   "id": "a2990dea",
   "metadata": {},
   "outputs": [],
   "source": [
    "# Strip spaces, fix casing\n",
    "df['PRODUCTLINE'] = df['PRODUCTLINE'].str.strip().str.lower()\n",
    "df['STATUS'] = df['STATUS'].str.strip().str.title()\n",
    "df['COUNTRY'] = df['COUNTRY'].str.strip().str.title()"
   ]
  },
  {
   "cell_type": "code",
   "execution_count": 7,
   "id": "a04a58d2",
   "metadata": {},
   "outputs": [],
   "source": [
    "# Convert ORDERDATE to datetime\n",
    "df['ORDERDATE'] = pd.to_datetime(df['ORDERDATE'])\n",
    "\n",
    "# Extract date parts\n",
    "df['YEAR'] = df['ORDERDATE'].dt.year\n",
    "df['MONTH'] = df['ORDERDATE'].dt.to_period('M').astype(str)\n",
    "df['QUARTER'] = df['ORDERDATE'].dt.to_period('Q').astype(str)"
   ]
  },
  {
   "cell_type": "code",
   "execution_count": 8,
   "id": "ff43606e",
   "metadata": {},
   "outputs": [
    {
     "name": "stdout",
     "output_type": "stream",
     "text": [
      "Cleaned dataset saved to: data/sales_data_cleaned.csv\n"
     ]
    }
   ],
   "source": [
    "# Save cleaned data\n",
    "df.to_csv(\"data/sales_data_cleaned.csv\", index=False)\n",
    "print(\"Cleaned dataset saved to: data/sales_data_cleaned.csv\")"
   ]
  },
  {
   "cell_type": "code",
   "execution_count": 9,
   "id": "19e9d1de",
   "metadata": {},
   "outputs": [
    {
     "name": "stdout",
     "output_type": "stream",
     "text": [
      "\n",
      " Sample Stats:\n",
      "               SALES  QUANTITYORDERED\n",
      "count     519.000000       519.000000\n",
      "mean    44235.101850        50.040462\n",
      "std     25435.700337        28.724297\n",
      "min      4115.680000         1.000000\n",
      "25%     22373.605000        25.000000\n",
      "50%     43418.500000        49.000000\n",
      "75%     62819.950000        75.500000\n",
      "max    119965.910000        99.000000\n"
     ]
    }
   ],
   "source": [
    "# Numerical stats\n",
    "print(\"\\n Sample Stats:\")\n",
    "print(df[['SALES', 'QUANTITYORDERED']].describe())"
   ]
  }
 ],
 "metadata": {
  "kernelspec": {
   "display_name": "Python 3",
   "language": "python",
   "name": "python3"
  },
  "language_info": {
   "codemirror_mode": {
    "name": "ipython",
    "version": 3
   },
   "file_extension": ".py",
   "mimetype": "text/x-python",
   "name": "python",
   "nbconvert_exporter": "python",
   "pygments_lexer": "ipython3",
   "version": "3.11.9"
  }
 },
 "nbformat": 4,
 "nbformat_minor": 5
}
