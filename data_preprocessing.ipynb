{
 "cells": [
  {
   "cell_type": "code",
   "execution_count": 17,
   "id": "8a5901a8",
   "metadata": {},
   "outputs": [
    {
     "name": "stdout",
     "output_type": "stream",
     "text": [
      "✅ Dataset loaded. Shape: (505, 8)\n"
     ]
    }
   ],
   "source": [
    "import pandas as pd\n",
    "import numpy as np\n",
    "\n",
    "# Load dataset\n",
    "df = pd.read_csv(\"../data/sales_data.csv\")\n",
    "print(\"✅ Dataset loaded. Shape:\", df.shape)"
   ]
  },
  {
   "cell_type": "code",
   "execution_count": 18,
   "id": "fdf9bdac",
   "metadata": {
    "vscode": {
     "languageId": "plaintext"
    }
   },
   "outputs": [
    {
     "data": {
      "text/html": [
       "<div>\n",
       "<style scoped>\n",
       "    .dataframe tbody tr th:only-of-type {\n",
       "        vertical-align: middle;\n",
       "    }\n",
       "\n",
       "    .dataframe tbody tr th {\n",
       "        vertical-align: top;\n",
       "    }\n",
       "\n",
       "    .dataframe thead th {\n",
       "        text-align: right;\n",
       "    }\n",
       "</style>\n",
       "<table border=\"1\" class=\"dataframe\">\n",
       "  <thead>\n",
       "    <tr style=\"text-align: right;\">\n",
       "      <th></th>\n",
       "      <th>ORDERNUMBER</th>\n",
       "      <th>SALES</th>\n",
       "      <th>ORDERDATE</th>\n",
       "      <th>PRODUCTLINE</th>\n",
       "      <th>COUNTRY</th>\n",
       "      <th>QUANTITYORDERED</th>\n",
       "      <th>CUSTOMERNAME</th>\n",
       "      <th>STATUS</th>\n",
       "    </tr>\n",
       "  </thead>\n",
       "  <tbody>\n",
       "    <tr>\n",
       "      <th>0</th>\n",
       "      <td>10001</td>\n",
       "      <td>35766.90</td>\n",
       "      <td>2023-09-28</td>\n",
       "      <td>Chassis Components</td>\n",
       "      <td>UK</td>\n",
       "      <td>23</td>\n",
       "      <td>Arys Garage Pvt. Ltd.</td>\n",
       "      <td>In Process</td>\n",
       "    </tr>\n",
       "    <tr>\n",
       "      <th>1</th>\n",
       "      <td>10002</td>\n",
       "      <td>87446.46</td>\n",
       "      <td>2024-02-13</td>\n",
       "      <td>Trailers</td>\n",
       "      <td>USA</td>\n",
       "      <td>81</td>\n",
       "      <td>DriveTech Distributors</td>\n",
       "      <td>Cancelled</td>\n",
       "    </tr>\n",
       "    <tr>\n",
       "      <th>2</th>\n",
       "      <td>10003</td>\n",
       "      <td>77393.67</td>\n",
       "      <td>2023-07-13</td>\n",
       "      <td>Trailers</td>\n",
       "      <td>Canada</td>\n",
       "      <td>90</td>\n",
       "      <td>FleetX Logistics Ltd.</td>\n",
       "      <td>In Process</td>\n",
       "    </tr>\n",
       "    <tr>\n",
       "      <th>3</th>\n",
       "      <td>10004</td>\n",
       "      <td>74597.29</td>\n",
       "      <td>2022-11-03</td>\n",
       "      <td>Transmission Units</td>\n",
       "      <td>Germany</td>\n",
       "      <td>17</td>\n",
       "      <td>MaxMove Transport</td>\n",
       "      <td>In Process</td>\n",
       "    </tr>\n",
       "    <tr>\n",
       "      <th>4</th>\n",
       "      <td>10005</td>\n",
       "      <td>65629.44</td>\n",
       "      <td>2023-08-09</td>\n",
       "      <td>Transmission Units</td>\n",
       "      <td>Australia</td>\n",
       "      <td>4</td>\n",
       "      <td>AutoNation Dealers</td>\n",
       "      <td>Cancelled</td>\n",
       "    </tr>\n",
       "  </tbody>\n",
       "</table>\n",
       "</div>"
      ],
      "text/plain": [
       "   ORDERNUMBER     SALES   ORDERDATE         PRODUCTLINE    COUNTRY  \\\n",
       "0        10001  35766.90  2023-09-28  Chassis Components         UK   \n",
       "1        10002  87446.46  2024-02-13            Trailers        USA   \n",
       "2        10003  77393.67  2023-07-13            Trailers     Canada   \n",
       "3        10004  74597.29  2022-11-03  Transmission Units    Germany   \n",
       "4        10005  65629.44  2023-08-09  Transmission Units  Australia   \n",
       "\n",
       "   QUANTITYORDERED            CUSTOMERNAME      STATUS  \n",
       "0               23   Arys Garage Pvt. Ltd.  In Process  \n",
       "1               81  DriveTech Distributors   Cancelled  \n",
       "2               90   FleetX Logistics Ltd.  In Process  \n",
       "3               17       MaxMove Transport  In Process  \n",
       "4                4      AutoNation Dealers   Cancelled  "
      ]
     },
     "execution_count": 18,
     "metadata": {},
     "output_type": "execute_result"
    }
   ],
   "source": [
    "# View initial structure\n",
    "df.head()"
   ]
  },
  {
   "cell_type": "code",
   "execution_count": 19,
   "id": "2d7770af",
   "metadata": {
    "vscode": {
     "languageId": "plaintext"
    }
   },
   "outputs": [
    {
     "name": "stdout",
     "output_type": "stream",
     "text": [
      "Columns: ['ORDERNUMBER', 'SALES', 'ORDERDATE', 'PRODUCTLINE', 'COUNTRY', 'QUANTITYORDERED', 'CUSTOMERNAME', 'STATUS']\n"
     ]
    }
   ],
   "source": [
    "# Confirm available columns\n",
    "print(\"Columns:\", df.columns.tolist())"
   ]
  },
  {
   "cell_type": "code",
   "execution_count": 20,
   "id": "f2f367d7",
   "metadata": {
    "vscode": {
     "languageId": "plaintext"
    }
   },
   "outputs": [
    {
     "name": "stdout",
     "output_type": "stream",
     "text": [
      "\n",
      "Missing Values:\n",
      " ORDERNUMBER         0\n",
      "SALES              11\n",
      "ORDERDATE           0\n",
      "PRODUCTLINE         0\n",
      "COUNTRY             0\n",
      "QUANTITYORDERED     0\n",
      "CUSTOMERNAME       10\n",
      "STATUS             10\n",
      "dtype: int64\n",
      "✅ Cleaned nulls and duplicates. New shape: (471, 8)\n"
     ]
    }
   ],
   "source": [
    "# Check for missing values\n",
    "print(\"\\nMissing Values:\\n\", df.isnull().sum())\n",
    "\n",
    "# Drop missing values (if any)\n",
    "df.dropna(inplace=True)\n",
    "\n",
    "# Drop duplicate rows\n",
    "df.drop_duplicates(inplace=True)\n",
    "\n",
    "print(\"✅ Cleaned nulls and duplicates. New shape:\", df.shape)"
   ]
  },
  {
   "cell_type": "code",
   "execution_count": 21,
   "id": "a2990dea",
   "metadata": {
    "vscode": {
     "languageId": "plaintext"
    }
   },
   "outputs": [],
   "source": [
    "# Strip spaces, fix casing\n",
    "df['PRODUCTLINE'] = df['PRODUCTLINE'].str.strip().str.lower()\n",
    "df['STATUS'] = df['STATUS'].str.strip().str.title()\n",
    "df['COUNTRY'] = df['COUNTRY'].str.strip().str.title()"
   ]
  },
  {
   "cell_type": "code",
   "execution_count": 22,
   "id": "a04a58d2",
   "metadata": {
    "vscode": {
     "languageId": "plaintext"
    }
   },
   "outputs": [],
   "source": [
    "# Convert ORDERDATE to datetime\n",
    "df['ORDERDATE'] = pd.to_datetime(df['ORDERDATE'])\n",
    "\n",
    "# Extract date parts\n",
    "df['YEAR'] = df['ORDERDATE'].dt.year\n",
    "df['MONTH'] = df['ORDERDATE'].dt.month\n",
    "df['QUARTER'] = df['ORDERDATE'].dt.quarter"
   ]
  },
  {
   "cell_type": "code",
   "execution_count": 23,
   "id": "ff43606e",
   "metadata": {
    "vscode": {
     "languageId": "plaintext"
    }
   },
   "outputs": [
    {
     "name": "stdout",
     "output_type": "stream",
     "text": [
      "✅ Cleaned dataset saved to: data/sales_data_cleaned.csv\n"
     ]
    }
   ],
   "source": [
    "# Save cleaned data\n",
    "df.to_csv(\"../data/sales_data_cleaned.csv\", index=False)\n",
    "print(\"✅ Cleaned dataset saved to: data/sales_data_cleaned.csv\")"
   ]
  },
  {
   "cell_type": "code",
   "execution_count": 24,
   "id": "19e9d1de",
   "metadata": {
    "vscode": {
     "languageId": "plaintext"
    }
   },
   "outputs": [
    {
     "name": "stdout",
     "output_type": "stream",
     "text": [
      "\n",
      "🧾 Sample Stats:\n",
      "              SALES  QUANTITYORDERED\n",
      "count    471.000000       471.000000\n",
      "mean   53271.574352        50.543524\n",
      "std    27332.566208        28.688083\n",
      "min     5105.590000         1.000000\n",
      "25%    29651.135000        25.500000\n",
      "50%    54779.150000        51.000000\n",
      "75%    77049.825000        75.000000\n",
      "max    99669.040000        99.000000\n"
     ]
    }
   ],
   "source": [
    "# Quick numerical stats\n",
    "print(\"\\n🧾 Sample Stats:\")\n",
    "print(df[['SALES', 'QUANTITYORDERED']].describe())"
   ]
  },
  {
   "cell_type": "code",
   "execution_count": null,
   "id": "a83b3e7b-6ae0-4405-a102-8f96f877670b",
   "metadata": {},
   "outputs": [],
   "source": []
  },
  {
   "cell_type": "code",
   "execution_count": null,
   "id": "2f2fc52e-201b-4fbd-8d36-4db87e7a3123",
   "metadata": {},
   "outputs": [],
   "source": []
  }
 ],
 "metadata": {
  "kernelspec": {
   "display_name": "Python 3 (ipykernel)",
   "language": "python",
   "name": "python3"
  },
  "language_info": {
   "codemirror_mode": {
    "name": "ipython",
    "version": 3
   },
   "file_extension": ".py",
   "mimetype": "text/x-python",
   "name": "python",
   "nbconvert_exporter": "python",
   "pygments_lexer": "ipython3",
   "version": "3.13.2"
  }
 },
 "nbformat": 4,
 "nbformat_minor": 5
}
